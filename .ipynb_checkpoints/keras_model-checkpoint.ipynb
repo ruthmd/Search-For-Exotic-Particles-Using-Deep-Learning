{
 "cells": [
  {
   "cell_type": "code",
   "execution_count": null,
   "metadata": {
    "colab": {},
    "colab_type": "code",
    "id": "J72gtzyd-LX2"
   },
   "outputs": [],
   "source": [
    "import numpy as np \n",
    "import pandas as pd \n",
    "from keras.models import Sequential\n",
    "from keras.layers import Dense, Dropout\n",
    "from sklearn.model_selection import train_test_split\n",
    "import matplotlib.pyplot as plt\n",
    "%matplotlib inline"
   ]
  },
  {
   "cell_type": "markdown",
   "metadata": {},
   "source": [
    "## Tune Hyperparameters"
   ]
  },
  {
   "cell_type": "code",
   "execution_count": null,
   "metadata": {
    "colab": {},
    "colab_type": "code",
    "id": "8WkK8y8B-LX9"
   },
   "outputs": [],
   "source": [
    "np.random.seed(11)\n",
    "EPOCHS = 10\n",
    "BATCH_SIZE = 32"
   ]
  },
  {
   "cell_type": "markdown",
   "metadata": {},
   "source": [
    "## Gathering data from csv file"
   ]
  },
  {
   "cell_type": "code",
   "execution_count": null,
   "metadata": {
    "colab": {},
    "colab_type": "code",
    "id": "TGEED_cA-LYC"
   },
   "outputs": [],
   "source": [
    "DATA = 'F:/pes/Search-For-Exotic-Particles-Using-Deep-Learning/data/HIGGS.csv'\n",
    "dataframe = pd.read_csv(DATA, header=None)\n",
    "dataset = dataframe.values\n",
    "\n",
    "# separating features from labels \n",
    "X = dataset[:,1:29].astype(float)\n",
    "Y = dataset[:,:1].astype(int)\n",
    "\n",
    "#split the data for training and testing\n",
    "X_train, X_test, y_train, y_test = train_test_split(X, Y, test_size=0.25, random_state=0)"
   ]
  },
  {
   "cell_type": "markdown",
   "metadata": {},
   "source": [
    "## Build Keras model"
   ]
  },
  {
   "cell_type": "code",
   "execution_count": null,
   "metadata": {
    "colab": {},
    "colab_type": "code",
    "id": "2ZugAfE3-LYF"
   },
   "outputs": [],
   "source": [
    "model = Sequential()\n",
    "model.add(Dense(28, input_dim=28, kernel_initializer='random_uniform', activation='relu'))\n",
    "model.add(Dropout(0.2))\n",
    "model.add(Dense(14, kernel_initializer='random_uniform', activation='relu'))\n",
    "model.add(Dropout(0.2))\n",
    "model.add(Dense(7, kernel_initializer='random_uniform', activation='relu'))\n",
    "model.add(Dense(1, kernel_initializer='random_uniform', activation='sigmoid'))\n",
    "\n",
    "model.compile(loss='binary_crossentropy',optimizer='adam',metrics=['accuracy'])"
   ]
  },
  {
   "cell_type": "markdown",
   "metadata": {},
   "source": [
    "## Training the model"
   ]
  },
  {
   "cell_type": "code",
   "execution_count": null,
   "metadata": {
    "colab": {
     "base_uri": "https://localhost:8080/",
     "height": 2699
    },
    "colab_type": "code",
    "id": "KIpCu0Zq-LYN",
    "outputId": "e32a3afb-0753-4563-b6ef-ed9ec5cb60f8",
    "scrolled": true
   },
   "outputs": [],
   "source": [
    "train = model.fit(X_train, y_train, batch_size=BATCH_SIZE, epochs=EPOCHS)"
   ]
  },
  {
   "cell_type": "markdown",
   "metadata": {},
   "source": [
    "## Summarize train for accuracy"
   ]
  },
  {
   "cell_type": "code",
   "execution_count": null,
   "metadata": {
    "colab": {},
    "colab_type": "code",
    "id": "QAuByqy7AgSg"
   },
   "outputs": [],
   "source": [
    "plt.plot(train.history['acc'])\n",
    "plt.title('Model Accuracy')\n",
    "plt.ylabel('accuracy')\n",
    "plt.xlabel('epoch')\n",
    "plt.legend(['train', 'test'], loc='upper left')\n",
    "plt.show()"
   ]
  },
  {
   "cell_type": "markdown",
   "metadata": {},
   "source": [
    "## Summarize train for loss"
   ]
  },
  {
   "cell_type": "code",
   "execution_count": null,
   "metadata": {},
   "outputs": [],
   "source": [
    "plt.plot(train.history['loss'])\n",
    "plt.title('Model Loss')\n",
    "plt.ylabel('loss')\n",
    "plt.xlabel('epoch')\n",
    "plt.legend(['train', 'test'], loc='upper left')\n",
    "plt.show()"
   ]
  },
  {
   "cell_type": "markdown",
   "metadata": {},
   "source": [
    "## Make predictions"
   ]
  },
  {
   "cell_type": "code",
   "execution_count": null,
   "metadata": {
    "colab": {},
    "colab_type": "code",
    "id": "osRJyk-PQnP6"
   },
   "outputs": [],
   "source": [
    "predictions = model.predict(X_test)"
   ]
  },
  {
   "cell_type": "markdown",
   "metadata": {},
   "source": [
    "## Test accuracy"
   ]
  },
  {
   "cell_type": "code",
   "execution_count": null,
   "metadata": {},
   "outputs": [],
   "source": [
    "test = [x[0] for x in predictions.tolist()]\n",
    "\n",
    "for i in range(len(test)):\n",
    "    if test[i] > 0.5:\n",
    "        test[i] = 1\n",
    "    else:\n",
    "        test[i] = 0\n",
    "\n",
    "y = [x[0] for x in y_test.tolist()]\n",
    "\n",
    "# count true positives\n",
    "c=0\n",
    "\n",
    "for i in range(len(y)):\n",
    "    if y[i] == test[i]:\n",
    "        c+=1\n",
    "print(\"TEST Accuracy:\", c/len(y))"
   ]
  }
 ],
 "metadata": {
  "colab": {
   "collapsed_sections": [],
   "name": "keras_model.ipynb",
   "provenance": [],
   "version": "0.3.2"
  },
  "kernelspec": {
   "display_name": "Python 3",
   "language": "python",
   "name": "python3"
  },
  "language_info": {
   "codemirror_mode": {
    "name": "ipython",
    "version": 3
   },
   "file_extension": ".py",
   "mimetype": "text/x-python",
   "name": "python",
   "nbconvert_exporter": "python",
   "pygments_lexer": "ipython3",
   "version": "3.6.7"
  }
 },
 "nbformat": 4,
 "nbformat_minor": 1
}
