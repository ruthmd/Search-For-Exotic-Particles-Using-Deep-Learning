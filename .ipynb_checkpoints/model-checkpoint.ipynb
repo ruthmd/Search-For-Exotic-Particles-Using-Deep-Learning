{
 "cells": [
  {
   "cell_type": "code",
   "execution_count": 2,
   "metadata": {},
   "outputs": [],
   "source": [
    "import numpy as np \n",
    "import pandas as pd \n",
    "from keras.models import Sequential\n",
    "from keras.layers import Dense\n",
    "from sklearn.model_selection import train_test_split"
   ]
  },
  {
   "cell_type": "code",
   "execution_count": 3,
   "metadata": {},
   "outputs": [],
   "source": [
    "#params \n",
    "np.random.seed(11)\n",
    "EPOCHS = 8 \n",
    "BATCH_SIZE = 256"
   ]
  },
  {
   "cell_type": "code",
   "execution_count": 23,
   "metadata": {},
   "outputs": [],
   "source": [
    "DATA = 'F:/pes/Search-For-Exotic-Particles-Using-Deep-Learning/data/data.csv'\n",
    "dataframe = pd.read_csv(DATA, header=None)\n",
    "dataset = dataframe.values\n",
    "X = dataset[:,1:29].astype(float)\n",
    "Y = dataset[:,:1].astype(int)\n",
    "X_train, X_test, y_train, y_test = train_test_split(X, Y, test_size=0.25, random_state=0)"
   ]
  },
  {
   "cell_type": "code",
   "execution_count": 22,
   "metadata": {},
   "outputs": [
    {
     "data": {
      "text/plain": [
       "array([[ 0.86929321, -0.63508183,  0.22569026, ...,  0.72165745,\n",
       "         0.98875093,  0.87667835],\n",
       "       [ 0.90754211,  0.32914728,  0.35941187, ...,  0.77973217,\n",
       "         0.99235576,  0.79834259],\n",
       "       [ 0.79883474,  1.47063875, -1.63597476, ...,  0.8032515 ,\n",
       "         0.86592442,  0.78011757],\n",
       "       ...,\n",
       "       [ 0.4814969 , -0.44418392, -1.64540756, ...,  0.64619136,\n",
       "         0.6939376 ,  0.69551128],\n",
       "       [ 0.56476605,  0.26291743,  0.54307091, ...,  0.7223196 ,\n",
       "         0.93818957,  0.84780687],\n",
       "       [ 0.44105193,  0.80152214, -0.33426744, ...,  0.60516518,\n",
       "         0.97112471,  0.89249057]])"
      ]
     },
     "execution_count": 22,
     "metadata": {},
     "output_type": "execute_result"
    }
   ],
   "source": [
    "# model\n",
    "model = Sequential()\n",
    "\t# 1st layer: input_dim=8, 12 nodes, RELU\n",
    "\tmodel.add(Dense(12, input_dim=8, init='uniform', activation='relu'))\n",
    "\t# 2nd layer: 8 nodes, RELU\n",
    "\tmodel.add(Dense(8, init='uniform', activation='relu'))\n",
    "\t# output layer: dim=1, activation sigmoid\n",
    "\tmodel.add(Dense(1, init='uniform', activation='sigmoid' ))"
   ]
  },
  {
   "cell_type": "code",
   "execution_count": null,
   "metadata": {},
   "outputs": [],
   "source": []
  }
 ],
 "metadata": {
  "kernelspec": {
   "display_name": "Python 3",
   "language": "python",
   "name": "python3"
  },
  "language_info": {
   "codemirror_mode": {
    "name": "ipython",
    "version": 3
   },
   "file_extension": ".py",
   "mimetype": "text/x-python",
   "name": "python",
   "nbconvert_exporter": "python",
   "pygments_lexer": "ipython3",
   "version": "3.6.7"
  }
 },
 "nbformat": 4,
 "nbformat_minor": 2
}
